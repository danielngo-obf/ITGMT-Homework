{
 "cells": [
  {
   "cell_type": "code",
   "execution_count": 6,
   "id": "45403eee",
   "metadata": {
    "scrolled": true
   },
   "outputs": [
    {
     "data": {
      "image/png": "[encoded data removed]",
      "text/plain": [
       "<Figure size 640x480 with 1 Axes>"
      ]
     },
     "metadata": {},
     "output_type": "display_data"
    }
   ],
   "source": [
    "# made with assistance of ChatGPT, specifically:\n",
    "# how to ping it over a specified time interval\n",
    "# how to convert the webscraped data from the api into a workable dataframe\n",
    "\n",
    "import json\n",
    "import pandas as pd\n",
    "import matplotlib.pyplot as plt\n",
    "import requests\n",
    "import time\n",
    "\n",
    "url = \"http://api.open-notify.org/iss-now.json\"\n",
    "\n",
    "interval = 10 #basically 10 second intervals\n",
    "count = 0 #starting counter, we want this to reach 100 then break\n",
    "\n",
    "pos_data = []\n",
    "\n",
    "while count < 100:\n",
    "    api_ping = requests.get(url)\n",
    "    \n",
    "    if api_ping.status_code == 200:\n",
    "        iss_tracker = api_ping.json()\n",
    "        long = float(iss_tracker['iss_position']['longitude'])\n",
    "        lat = float(iss_tracker['iss_position']['latitude'])\n",
    "        time_s = iss_tracker['timestamp']\n",
    "        \n",
    "        pos_data.append({'Time':time_s, 'Longitude':long, 'Latitude':lat})\n",
    "        count += 1 \n",
    "    \n",
    "    else:\n",
    "        print('error')\n",
    "        \n",
    "    time.sleep(interval)\n",
    "    \n",
    "pos_table = pd.DataFrame(pos_data)\n",
    "\n",
    "plt.plot(pos_table['Latitude'], pos_table['Longitude'], marker = '.')\n",
    "plt.title('International Space Station Position')\n",
    "plt.xlabel('Latitude')\n",
    "plt.ylabel('Longitude')\n",
    "plt.grid(True)\n",
    "plt.show()"
   ]
  },
  {
   "cell_type": "code",
   "execution_count": 7,
   "id": "2329c924",
   "metadata": {},
   "outputs": [
    {
     "data": {
      "text/html": [
       "<div>\n",
       "<style scoped>\n",
       "    .dataframe tbody tr th:only-of-type {\n",
       "        vertical-align: middle;\n",
       "    }\n",
       "\n",
       "    .dataframe tbody tr th {\n",
       "        vertical-align: top;\n",
       "    }\n",
       "\n",
       "    .dataframe thead th {\n",
       "        text-align: right;\n",
       "    }\n",
       "</style>\n",
       "<table border=\"1\" class=\"dataframe\">\n",
       "  <thead>\n",
       "    <tr style=\"text-align: right;\">\n",
       "      <th></th>\n",
       "      <th>Time</th>\n",
       "      <th>Longitude</th>\n",
       "      <th>Latitude</th>\n",
       "    </tr>\n",
       "  </thead>\n",
       "  <tbody>\n",
       "    <tr>\n",
       "      <th>0</th>\n",
       "      <td>1689839047</td>\n",
       "      <td>117.4859</td>\n",
       "      <td>8.7604</td>\n",
       "    </tr>\n",
       "    <tr>\n",
       "      <th>1</th>\n",
       "      <td>1689839057</td>\n",
       "      <td>117.8741</td>\n",
       "      <td>9.2891</td>\n",
       "    </tr>\n",
       "    <tr>\n",
       "      <th>2</th>\n",
       "      <td>1689839068</td>\n",
       "      <td>118.2636</td>\n",
       "      <td>9.8174</td>\n",
       "    </tr>\n",
       "    <tr>\n",
       "      <th>3</th>\n",
       "      <td>1689839078</td>\n",
       "      <td>118.6546</td>\n",
       "      <td>10.3450</td>\n",
       "    </tr>\n",
       "    <tr>\n",
       "      <th>4</th>\n",
       "      <td>1689839088</td>\n",
       "      <td>119.0282</td>\n",
       "      <td>10.8470</td>\n",
       "    </tr>\n",
       "    <tr>\n",
       "      <th>5</th>\n",
       "      <td>1689839099</td>\n",
       "      <td>119.4221</td>\n",
       "      <td>11.3735</td>\n",
       "    </tr>\n",
       "    <tr>\n",
       "      <th>6</th>\n",
       "      <td>1689839110</td>\n",
       "      <td>119.8176</td>\n",
       "      <td>11.8993</td>\n",
       "    </tr>\n",
       "    <tr>\n",
       "      <th>7</th>\n",
       "      <td>1689839120</td>\n",
       "      <td>120.2148</td>\n",
       "      <td>12.4246</td>\n",
       "    </tr>\n",
       "    <tr>\n",
       "      <th>8</th>\n",
       "      <td>1689839131</td>\n",
       "      <td>120.6138</td>\n",
       "      <td>12.9490</td>\n",
       "    </tr>\n",
       "    <tr>\n",
       "      <th>9</th>\n",
       "      <td>1689839141</td>\n",
       "      <td>121.0147</td>\n",
       "      <td>13.4728</td>\n",
       "    </tr>\n",
       "  </tbody>\n",
       "</table>\n",
       "</div>"
      ],
      "text/plain": [
       "         Time  Longitude  Latitude\n",
       "0  1689839047   117.4859    8.7604\n",
       "1  1689839057   117.8741    9.2891\n",
       "2  1689839068   118.2636    9.8174\n",
       "3  1689839078   118.6546   10.3450\n",
       "4  1689839088   119.0282   10.8470\n",
       "5  1689839099   119.4221   11.3735\n",
       "6  1689839110   119.8176   11.8993\n",
       "7  1689839120   120.2148   12.4246\n",
       "8  1689839131   120.6138   12.9490\n",
       "9  1689839141   121.0147   13.4728"
      ]
     },
     "execution_count": 7,
     "metadata": {},
     "output_type": "execute_result"
    }
   ],
   "source": [
    "pos_table.head(10)"
   ]
  },
  {
   "cell_type": "code",
   "execution_count": 8,
   "id": "1da95c4f",
   "metadata": {},
   "outputs": [
    {
     "name": "stdout",
     "output_type": "stream",
     "text": [
      "100\n"
     ]
    }
   ],
   "source": [
    "print(count)"
   ]
  },
  {
   "cell_type": "code",
   "execution_count": null,
   "id": "b038fb99",
   "metadata": {},
   "outputs": [],
   "source": []
  }
 ],
 "metadata": {
  "kernelspec": {
   "display_name": "Python 3 (ipykernel)",
   "language": "python",
   "name": "python3"
  },
  "language_info": {
   "codemirror_mode": {
    "name": "ipython",
    "version": 3
   },
   "file_extension": ".py",
   "mimetype": "text/x-python",
   "name": "python",
   "nbconvert_exporter": "python",
   "pygments_lexer": "ipython3",
   "version": "3.10.9"
  }
 },
 "nbformat": 4,
 "nbformat_minor": 5
}
